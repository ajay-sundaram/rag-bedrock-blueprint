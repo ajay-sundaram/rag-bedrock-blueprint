{
 "cells": [
  {
   "cell_type": "markdown",
   "id": "ef37f3a2",
   "metadata": {},
   "source": [
    "# RAG Pipeline Demo using Amazon Bedrock"
   ]
  },
  {
   "cell_type": "markdown",
   "id": "98b626cc",
   "metadata": {},
   "source": [
    "This notebook demonstrates an end-to-end Retrieval-Augmented Generation (RAG) pipeline using Amazon Bedrock, LangChain, and OpenSearch."
   ]
  },
  {
   "cell_type": "code",
   "execution_count": null,
   "id": "b4d3c211",
   "metadata": {},
   "outputs": [],
   "source": [
    "import os\n",
    "from dotenv import load_dotenv\n",
    "from app.chunker import chunk_text\n",
    "from app.embedder import get_bedrock_embedding\n",
    "from app.retriever import hybrid_search\n",
    "from app.prompt_templates import build_prompt\n",
    "from app.bedrock_client import query_bedrock_claude\n",
    "\n",
    "load_dotenv()\n"
   ]
  },
  {
   "cell_type": "markdown",
   "id": "72c08bd5",
   "metadata": {},
   "source": [
    "## Step 1: Load and chunk the document"
   ]
  },
  {
   "cell_type": "code",
   "execution_count": null,
   "id": "bb74b54c",
   "metadata": {},
   "outputs": [],
   "source": [
    "with open(\"data/sample_docs/return_policy.pdf\", \"r\") as f:\n",
    "    document_text = f.read()\n",
    "\n",
    "chunks = chunk_text(document_text)\n",
    "print(f\"Number of chunks: {len(chunks)}\")\n",
    "print(chunks[:2])  # Show first 2 chunks\n"
   ]
  },
  {
   "cell_type": "markdown",
   "id": "ed107842",
   "metadata": {},
   "source": [
    "## Step 2: Embed the query and run hybrid search"
   ]
  },
  {
   "cell_type": "code",
   "execution_count": null,
   "id": "21206c56",
   "metadata": {},
   "outputs": [],
   "source": [
    "user_query = \"What is the return policy during the holiday season?\"\n",
    "query_embedding = get_bedrock_embedding(user_query)\n",
    "\n",
    "# Replace with your OpenSearch endpoint\n",
    "opensearch_url = \"https://your-opensearch-endpoint/index/_search\"\n",
    "results = hybrid_search(user_query, query_embedding, opensearch_url)\n",
    "\n",
    "retrieved_contexts = [hit[\"_source\"][\"text\"] for hit in results[\"hits\"][\"hits\"]]\n",
    "context_text = \"\\n\".join(retrieved_contexts)\n",
    "print(context_text)\n"
   ]
  },
  {
   "cell_type": "markdown",
   "id": "9fa75df3",
   "metadata": {},
   "source": [
    "## Step 3: Generate final answer using Claude on Bedrock"
   ]
  },
  {
   "cell_type": "code",
   "execution_count": null,
   "id": "25bf2d58",
   "metadata": {},
   "outputs": [],
   "source": [
    "prompt = build_prompt(context_text, user_query)\n",
    "response = query_bedrock_claude(prompt)\n",
    "print(response)\n"
   ]
  }
 ],
 "metadata": {},
 "nbformat": 4,
 "nbformat_minor": 5
}